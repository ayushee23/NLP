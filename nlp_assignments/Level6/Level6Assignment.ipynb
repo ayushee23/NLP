{
 "cells": [
  {
   "cell_type": "markdown",
   "metadata": {},
   "source": [
    "### Word Sense Disambiguity"
   ]
  },
  {
   "cell_type": "code",
   "execution_count": 4,
   "metadata": {
    "collapsed": true
   },
   "outputs": [],
   "source": [
    "from nltk import word_tokenize, sent_tokenize\n",
    "from nltk.corpus import stopwords, state_union, wordnet\n",
    "from nltk.stem import PorterStemmer, WordNetLemmatizer\n",
    "from nltk.tokenize import PunktSentenceTokenizer\n",
    "from nltk.wsd import lesk\n",
    "import nltk"
   ]
  },
  {
   "cell_type": "markdown",
   "metadata": {},
   "source": [
    "Given the following sentences:\n",
    "\n",
    "    The agent will book the to the show for the entire family.\n",
    "    But you can generally book tickets online.\n",
    "    When you book tickets online they provide you with a book of stamps\n",
    "    \n",
    "If you could see the above sentences the word book is used in different context. In first two sentences the word book(verb) refers to the meaning 'reserve' while in the second portion of the third sentence book(noun) refers to a physical entity."
   ]
  },
  {
   "cell_type": "markdown",
   "metadata": {},
   "source": [
    "## Part - 1\n",
    "\n",
    "    Use the Lesk Module to find the similar words of the word *book* using the above sentences. Record your observations.\n",
    "    \n",
    "## Part - 2\n",
    "\n",
    "Tag sentences using Brill Tagger.\n",
    "\n",
    "### Brill Tagger\n",
    "\n",
    "The BrillTagger class is a **transformation-based tagger**. The BrillTagger class uses a series\n",
    "of rules to correct the results of an initial tagger. These rules are scored based on how many\n",
    "errors they correct minus the number of new errors they produce.\n",
    "\n",
    "The idea is simple Brill Tagger tries to correct the mistake made by the inital tagger. Brill tagger inputs an initial tagger and the templates which autmatically tells to create new rules based on the Training Set.\n",
    "\n",
    "**Recommended Steps:**\n",
    "\n",
    "1. Initially tag the sentence using POS Tagger. Then observe the POS tags for the word book in different context\n",
    "2. Then create a tagged_sentence using the POS Tagger correcting it with the mistakes it made.\n",
    "3. Now create a Brill Tagger using an initial tagger (POS) and pass templates(rules) to it.\n",
    "4. Train the Brill Tagger using the Tagged Sentence\n",
    "5. Test the Brill Tagger on the following sentences:\n",
    "       > \"I bought this book from Kerala\"\n",
    "       > \"He will book tickets to Kerala\"\n",
    "       \n",
    "## Part - 3\n",
    "\n",
    "    Perform Part-1 again but passing the POS tags produced by the Brill Tagger.\n",
    "    "
   ]
  },
  {
   "cell_type": "markdown",
   "metadata": {},
   "source": [
    "## Part1"
   ]
  },
  {
   "cell_type": "code",
   "execution_count": 13,
   "metadata": {
    "collapsed": true
   },
   "outputs": [],
   "source": [
    "str1 = 'The agent will book the to the show for the entire family.'\n",
    "str2 = 'But you can generally book tickets online.'\n",
    "str3 = 'When you book tickets online they provide you with a book of stamps'"
   ]
  },
  {
   "cell_type": "code",
   "execution_count": 12,
   "metadata": {},
   "outputs": [
    {
     "name": "stdout",
     "output_type": "stream",
     "text": [
      "Synset('script.n.01')\n",
      "Synset('script.n.01')\n",
      "Synset('script.n.01')\n"
     ]
    }
   ],
   "source": [
    "print(lesk(str1, 'book'))\n",
    "print(lesk(str2, 'book'))\n",
    "print(lesk(str3, 'book'))"
   ]
  },
  {
   "cell_type": "code",
   "execution_count": 11,
   "metadata": {},
   "outputs": [
    {
     "name": "stdout",
     "output_type": "stream",
     "text": [
      "Synset('book.n.01') a written work or composition that has been published (printed on pages bound together)\n",
      "Synset('book.n.02') physical objects consisting of a number of pages bound together\n",
      "Synset('record.n.05') a compilation of the known facts regarding something or someone\n",
      "Synset('script.n.01') a written version of a play or other dramatic composition; used in preparing for a performance\n",
      "Synset('ledger.n.01') a record in which commercial accounts are recorded\n",
      "Synset('book.n.06') a collection of playing cards satisfying the rules of a card game\n",
      "Synset('book.n.07') a collection of rules or prescribed standards on the basis of which decisions are made\n",
      "Synset('koran.n.01') the sacred writings of Islam revealed by God to the prophet Muhammad during his life at Mecca and Medina\n",
      "Synset('bible.n.01') the sacred writings of the Christian religions\n",
      "Synset('book.n.10') a major division of a long written composition\n",
      "Synset('book.n.11') a number of sheets (ticket or stamps etc.) bound together on one edge\n",
      "Synset('book.v.01') engage for a performance\n",
      "Synset('reserve.v.04') arrange for and reserve (something for someone else) in advance\n",
      "Synset('book.v.03') record a charge in a police register\n",
      "Synset('book.v.04') register in a hotel booker\n"
     ]
    }
   ],
   "source": [
    "for i in wordnet.synsets('book'):\n",
    "    print(i, i.definition())"
   ]
  },
  {
   "cell_type": "code",
   "execution_count": null,
   "metadata": {
    "collapsed": true
   },
   "outputs": [],
   "source": []
  }
 ],
 "metadata": {
  "kernelspec": {
   "display_name": "Python 3",
   "language": "python",
   "name": "python3"
  },
  "language_info": {
   "codemirror_mode": {
    "name": "ipython",
    "version": 3
   },
   "file_extension": ".py",
   "mimetype": "text/x-python",
   "name": "python",
   "nbconvert_exporter": "python",
   "pygments_lexer": "ipython3",
   "version": "3.5.2"
  }
 },
 "nbformat": 4,
 "nbformat_minor": 2
}
