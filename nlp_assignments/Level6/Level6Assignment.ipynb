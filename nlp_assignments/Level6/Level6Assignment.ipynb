{
 "cells": [
  {
   "cell_type": "markdown",
   "metadata": {},
   "source": [
    "### Word Sense Disambiguity"
   ]
  },
  {
   "cell_type": "code",
   "execution_count": 1,
   "metadata": {},
   "outputs": [],
   "source": [
    "from nltk import word_tokenize, sent_tokenize\n",
    "from nltk.corpus import stopwords, state_union, wordnet\n",
    "from nltk.stem import PorterStemmer, WordNetLemmatizer\n",
    "from nltk.tokenize import PunktSentenceTokenizer\n",
    "from nltk.wsd import lesk\n",
    "import nltk\n",
    "from nltk.tag.brill import BrillTagger, Pos, Word\n",
    "from nltk.tbl import Template"
   ]
  },
  {
   "cell_type": "markdown",
   "metadata": {},
   "source": [
    "Given the following sentences:\n",
    "\n",
    "    The agent will book the to the show for the entire family.\n",
    "    But you can generally book tickets online.\n",
    "    When you book tickets online they provide you with a book of stamps\n",
    "    \n",
    "If you could see the above sentences the word book is used in different context. In first two sentences the word book(verb) refers to the meaning 'reserve' while in the second portion of the third sentence book(noun) refers to a physical entity."
   ]
  },
  {
   "cell_type": "markdown",
   "metadata": {},
   "source": [
    "## Part - 1\n",
    "\n",
    "    Use the Lesk Module to find the similar words of the word *book* using the above sentences. Record your observations.\n",
    "    \n",
    "## Part - 2\n",
    "\n",
    "Tag sentences using Brill Tagger.\n",
    "\n",
    "### Brill Tagger\n",
    "\n",
    "The BrillTagger class is a **transformation-based tagger**. The BrillTagger class uses a series\n",
    "of rules to correct the results of an initial tagger. These rules are scored based on how many\n",
    "errors they correct minus the number of new errors they produce.\n",
    "\n",
    "The idea is simple Brill Tagger tries to correct the mistake made by the inital tagger. Brill tagger inputs an initial tagger and the templates which autmatically tells to create new rules based on the Training Set.\n",
    "\n",
    "**Recommended Steps:**\n",
    "\n",
    "1. Initially tag the sentence using POS Tagger. Then observe the POS tags for the word book in different context\n",
    "2. Then create a tagged_sentence using the POS Tagger correcting it with the mistakes it made.\n",
    "3. Now create a Brill Tagger using an initial tagger (POS) and pass templates(rules) to it.\n",
    "4. Train the Brill Tagger using the Tagged Sentence\n",
    "5. Test the Brill Tagger on the following sentences:\n",
    "       > \"I bought this book from Kerala\"\n",
    "       > \"He will book tickets to Kerala\"\n",
    "       \n",
    "## Part - 3\n",
    "\n",
    "    Perform Part-1 again but passing the POS tags produced by the Brill Tagger.\n",
    "    "
   ]
  },
  {
   "cell_type": "markdown",
   "metadata": {},
   "source": [
    "## Part1"
   ]
  },
  {
   "cell_type": "code",
   "execution_count": 2,
   "metadata": {
    "collapsed": true
   },
   "outputs": [],
   "source": [
    "str1 = 'The agent will book the to the show for the entire family.'\n",
    "str2 = 'But you can generally book tickets online.'\n",
    "str3 = 'When you book tickets online they provide you with a book of stamps'"
   ]
  },
  {
   "cell_type": "code",
   "execution_count": 3,
   "metadata": {},
   "outputs": [
    {
     "name": "stdout",
     "output_type": "stream",
     "text": [
      "Synset('script.n.01')\n",
      "Synset('script.n.01')\n",
      "Synset('script.n.01')\n"
     ]
    }
   ],
   "source": [
    "print(lesk(str1, 'book'))\n",
    "print(lesk(str2, 'book'))\n",
    "print(lesk(str3, 'book'))"
   ]
  },
  {
   "cell_type": "code",
   "execution_count": 19,
   "metadata": {},
   "outputs": [
    {
     "name": "stdout",
     "output_type": "stream",
     "text": [
      "Synset('undertaking.n.01') any piece of work that is undertaken or attempted\n",
      "Synset('project.n.02') a planned undertaking\n",
      "Synset('project.v.01') communicate vividly\n",
      "Synset('stick_out.v.01') extend out or project in space\n",
      "Synset('project.v.03') transfer (ideas or principles) from one domain into another\n",
      "Synset('project.v.04') project on a screen\n",
      "Synset('project.v.05') cause to be heard\n",
      "Synset('project.v.06') draw a projection of\n",
      "Synset('plan.v.03') make or work out a plan for; devise\n",
      "Synset('project.v.08') present for consideration, examination, criticism, etc.\n",
      "Synset('visualize.v.01') imagine; conceive of; see in one's mind\n",
      "Synset('project.v.10') put or send forth\n",
      "Synset('project.v.11') throw, send, or cast forward\n",
      "Synset('project.v.12') regard as objective\n"
     ]
    }
   ],
   "source": [
    "for i in wordnet.synsets('project'):\n",
    "    print(i, i.definition())"
   ]
  },
  {
   "cell_type": "markdown",
   "metadata": {},
   "source": [
    "## Part2"
   ]
  },
  {
   "cell_type": "code",
   "execution_count": 29,
   "metadata": {
    "collapsed": true
   },
   "outputs": [],
   "source": [
    "sentences = \"\"\"Please project this on the screen.\n",
    "This is an interesting project.\"\"\""
   ]
  },
  {
   "cell_type": "code",
   "execution_count": 30,
   "metadata": {},
   "outputs": [
    {
     "data": {
      "text/plain": [
       "[Synset('project.v.06'), Synset('project.v.06')]"
      ]
     },
     "execution_count": 30,
     "metadata": {},
     "output_type": "execute_result"
    }
   ],
   "source": [
    "[lesk(s, 'project')for s in sent_tokenize(sentences)]"
   ]
  },
  {
   "cell_type": "code",
   "execution_count": 31,
   "metadata": {},
   "outputs": [],
   "source": [
    "tagged_sentences = [nltk.pos_tag(word_tokenize(sentence)) for sentence in sent_tokenize(sentences)]"
   ]
  },
  {
   "cell_type": "code",
   "execution_count": 32,
   "metadata": {},
   "outputs": [
    {
     "data": {
      "text/plain": [
       "[[('Please', 'VB'),\n",
       "  ('project', 'NN'),\n",
       "  ('this', 'DT'),\n",
       "  ('on', 'IN'),\n",
       "  ('the', 'DT'),\n",
       "  ('screen', 'NN'),\n",
       "  ('.', '.')],\n",
       " [('This', 'DT'),\n",
       "  ('is', 'VBZ'),\n",
       "  ('an', 'DT'),\n",
       "  ('interesting', 'JJ'),\n",
       "  ('project', 'NN'),\n",
       "  ('.', '.')]]"
      ]
     },
     "execution_count": 32,
     "metadata": {},
     "output_type": "execute_result"
    }
   ],
   "source": [
    "tagged_sentences"
   ]
  },
  {
   "cell_type": "code",
   "execution_count": 33,
   "metadata": {},
   "outputs": [],
   "source": [
    "tagger = nltk.data.load('taggers/maxent_treebank_pos_tagger/PY3/english.pickle')"
   ]
  },
  {
   "cell_type": "code",
   "execution_count": 34,
   "metadata": {},
   "outputs": [
    {
     "data": {
      "text/plain": [
       "'Please/VB project/NN this/DT on/IN the/DT screen/NN ./. This/DT is/VBZ an/DT interesting/JJ project/NN ./.'"
      ]
     },
     "execution_count": 34,
     "metadata": {},
     "output_type": "execute_result"
    }
   ],
   "source": [
    "tagged_sent = ' '.join([nltk.tag.tuple2str(j)for i in tagged_sentences for j in i])\n",
    "tagged_sent"
   ]
  },
  {
   "cell_type": "code",
   "execution_count": 35,
   "metadata": {},
   "outputs": [],
   "source": [
    "training_sentence = \"\"\"Please/VB project/VB this/DT on/IN the/DT screen/NN ./. This/DT is/VBZ an/DT interesting/JJ project/NN\"\"\""
   ]
  },
  {
   "cell_type": "code",
   "execution_count": 36,
   "metadata": {},
   "outputs": [
    {
     "data": {
      "text/plain": [
       "[('Please', 'VB'),\n",
       " ('project', 'VB'),\n",
       " ('this', 'DT'),\n",
       " ('on', 'IN'),\n",
       " ('the', 'DT'),\n",
       " ('screen', 'NN'),\n",
       " ('.', '.'),\n",
       " ('This', 'DT'),\n",
       " ('is', 'VBZ'),\n",
       " ('an', 'DT'),\n",
       " ('interesting', 'JJ'),\n",
       " ('project', 'NN')]"
      ]
     },
     "execution_count": 36,
     "metadata": {},
     "output_type": "execute_result"
    }
   ],
   "source": [
    "training_data = [nltk.tag.str2tuple(w)for w in training_sentence.split(' ')]\n",
    "training_data"
   ]
  },
  {
   "cell_type": "code",
   "execution_count": 37,
   "metadata": {
    "collapsed": true
   },
   "outputs": [],
   "source": [
    "def getTemplates():\n",
    "    return [\n",
    "        Template(Pos([-1])),\n",
    "        Template(Pos([1])),\n",
    "        Template(Pos([-2])),\n",
    "        Template(Pos([2])),\n",
    "        Template(Pos([-2, -1])),\n",
    "        Template(Pos([1, 2])),\n",
    "        Template(Pos([-3, -2, -1])),\n",
    "        Template(Pos([1, 2, 3])),\n",
    "        Template(Pos([-1]), Pos([1])),\n",
    "        Template(Word([-1])),\n",
    "        Template(Word([1])),\n",
    "        Template(Word([-2])),\n",
    "        Template(Word([2])),\n",
    "        Template(Word([-2, -1])),\n",
    "        Template(Word([1, 2])),\n",
    "        Template(Word([-3, -2, -1])),\n",
    "        Template(Word([1, 2, 3])),\n",
    "        Template(Word([-1]), Word([1])),\n",
    "    ]\n"
   ]
  },
  {
   "cell_type": "code",
   "execution_count": 56,
   "metadata": {},
   "outputs": [],
   "source": [
    "tt = nltk.tag.brill_trainer.BrillTaggerTrainer(tagger, getTemplates())"
   ]
  },
  {
   "cell_type": "code",
   "execution_count": 58,
   "metadata": {},
   "outputs": [],
   "source": [
    "trained_tagger = tt.train([training_data])"
   ]
  },
  {
   "cell_type": "code",
   "execution_count": 59,
   "metadata": {},
   "outputs": [
    {
     "data": {
      "text/plain": [
       "(Rule('050', 'NN', 'VB', [(Word([1, 2]),'this')]),)"
      ]
     },
     "execution_count": 59,
     "metadata": {},
     "output_type": "execute_result"
    }
   ],
   "source": [
    "trained_tagger.rules()"
   ]
  },
  {
   "cell_type": "code",
   "execution_count": 101,
   "metadata": {
    "collapsed": true
   },
   "outputs": [],
   "source": [
    "test_sentence = \"\"\"The agent will project it tomorrow. Please project it on the big screen. Let's do this project. Project on a screen\"\"\""
   ]
  },
  {
   "cell_type": "code",
   "execution_count": 102,
   "metadata": {},
   "outputs": [],
   "source": [
    "test_sent_tagged = [trained_tagger.tag(word_tokenize(s)) for s in sent_tokenize(test_sentence)]"
   ]
  },
  {
   "cell_type": "markdown",
   "metadata": {},
   "source": [
    "## Part 3"
   ]
  },
  {
   "cell_type": "code",
   "execution_count": 99,
   "metadata": {},
   "outputs": [
    {
     "data": {
      "text/plain": [
       "\"The/DT agent/NN will/MD project/VB it/PRP tomorrow/NN ./. Please/NN project/NN it/PRP on/IN the/DT big/JJ screen/NN ./. Let/NNP 's/POS do/VBP this/DT project/NN ./. Project/NNP the/DT presesntation/NN on/IN the/DT screen.Project/JJ on/IN a/DT screen/NN\""
      ]
     },
     "execution_count": 99,
     "metadata": {},
     "output_type": "execute_result"
    }
   ],
   "source": [
    "brill_tagged_sent = ' '.join([nltk.tag.tuple2str(j)for i in test_sent_tagged for j in i])\n",
    "brill_tagged_sent"
   ]
  },
  {
   "cell_type": "code",
   "execution_count": 103,
   "metadata": {},
   "outputs": [
    {
     "name": "stdout",
     "output_type": "stream",
     "text": [
      "Synset('project.v.06')\n",
      "Synset('project.v.06')\n",
      "Synset('undertaking.n.01')\n",
      "Synset('project.v.06')\n"
     ]
    }
   ],
   "source": [
    "for i, j in zip(sent_tokenize(test_sentence), ['v', 'v', 'n', 'v']):\n",
    "    print(lesk(i.lower(), 'project', pos = j))"
   ]
  },
  {
   "cell_type": "code",
   "execution_count": 87,
   "metadata": {},
   "outputs": [
    {
     "data": {
      "text/plain": [
       "[Synset('project.v.06'),\n",
       " Synset('project.v.06'),\n",
       " Synset('visualize.v.01'),\n",
       " Synset('project.v.06')]"
      ]
     },
     "execution_count": 87,
     "metadata": {},
     "output_type": "execute_result"
    }
   ],
   "source": [
    "[lesk(i, 'project')for i in sent_tokenize(test_sentence)]"
   ]
  },
  {
   "cell_type": "code",
   "execution_count": 88,
   "metadata": {},
   "outputs": [
    {
     "data": {
      "text/plain": [
       "[(Synset('undertaking.n.01'),\n",
       "  'any piece of work that is undertaken or attempted'),\n",
       " (Synset('project.n.02'), 'a planned undertaking'),\n",
       " (Synset('project.v.01'), 'communicate vividly'),\n",
       " (Synset('stick_out.v.01'), 'extend out or project in space'),\n",
       " (Synset('project.v.03'),\n",
       "  'transfer (ideas or principles) from one domain into another'),\n",
       " (Synset('project.v.04'), 'project on a screen'),\n",
       " (Synset('project.v.05'), 'cause to be heard'),\n",
       " (Synset('project.v.06'), 'draw a projection of'),\n",
       " (Synset('plan.v.03'), 'make or work out a plan for; devise'),\n",
       " (Synset('project.v.08'),\n",
       "  'present for consideration, examination, criticism, etc.'),\n",
       " (Synset('visualize.v.01'), \"imagine; conceive of; see in one's mind\"),\n",
       " (Synset('project.v.10'), 'put or send forth'),\n",
       " (Synset('project.v.11'), 'throw, send, or cast forward'),\n",
       " (Synset('project.v.12'), 'regard as objective')]"
      ]
     },
     "execution_count": 88,
     "metadata": {},
     "output_type": "execute_result"
    }
   ],
   "source": [
    "[(i, i.definition())for i in wordnet.synsets('project')]"
   ]
  },
  {
   "cell_type": "code",
   "execution_count": 108,
   "metadata": {},
   "outputs": [
    {
     "data": {
      "text/plain": [
       "'draw a projection of'"
      ]
     },
     "execution_count": 108,
     "metadata": {},
     "output_type": "execute_result"
    }
   ],
   "source": [
    "lesk(context_sentence=\"This was projected on the screen\", ambiguous_word='project', pos='v').definition()"
   ]
  },
  {
   "cell_type": "code",
   "execution_count": null,
   "metadata": {
    "collapsed": true
   },
   "outputs": [],
   "source": []
  }
 ],
 "metadata": {
  "kernelspec": {
   "display_name": "Python 3",
   "language": "python",
   "name": "python3"
  },
  "language_info": {
   "codemirror_mode": {
    "name": "ipython",
    "version": 3
   },
   "file_extension": ".py",
   "mimetype": "text/x-python",
   "name": "python",
   "nbconvert_exporter": "python",
   "pygments_lexer": "ipython3",
   "version": "3.5.2"
  }
 },
 "nbformat": 4,
 "nbformat_minor": 2
}
